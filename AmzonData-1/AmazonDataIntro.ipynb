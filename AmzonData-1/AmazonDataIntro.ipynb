{
 "cells": [
  {
   "cell_type": "code",
   "execution_count": null,
   "id": "731f1c9c",
   "metadata": {},
   "outputs": [],
   "source": [
    "import pandas as pd"
   ]
  },
  {
   "cell_type": "code",
   "execution_count": null,
   "id": "267e0243",
   "metadata": {},
   "outputs": [],
   "source": [
    "df = pd.read_csv('amazon-orders.csv')\n"
   ]
  },
  {
   "cell_type": "code",
   "execution_count": 6,
   "id": "a3993eb6",
   "metadata": {},
   "outputs": [
    {
     "data": {
      "text/html": [
       "<div>\n",
       "<style scoped>\n",
       "    .dataframe tbody tr th:only-of-type {\n",
       "        vertical-align: middle;\n",
       "    }\n",
       "\n",
       "    .dataframe tbody tr th {\n",
       "        vertical-align: top;\n",
       "    }\n",
       "\n",
       "    .dataframe thead th {\n",
       "        text-align: right;\n",
       "    }\n",
       "</style>\n",
       "<table border=\"1\" class=\"dataframe\">\n",
       "  <thead>\n",
       "    <tr style=\"text-align: right;\">\n",
       "      <th></th>\n",
       "      <th>Order Date</th>\n",
       "      <th>Order ID</th>\n",
       "      <th>Title</th>\n",
       "      <th>Category</th>\n",
       "      <th>ASIN/ISBN</th>\n",
       "      <th>UNSPSC Code</th>\n",
       "      <th>Website</th>\n",
       "      <th>Release Date</th>\n",
       "      <th>Condition</th>\n",
       "      <th>Seller</th>\n",
       "      <th>...</th>\n",
       "      <th>Carrier Name &amp; Tracking Number</th>\n",
       "      <th>Item Subtotal</th>\n",
       "      <th>Item Subtotal Tax</th>\n",
       "      <th>Item Total</th>\n",
       "      <th>Tax Exemption Applied</th>\n",
       "      <th>Tax Exemption Type</th>\n",
       "      <th>Exemption Opt-Out</th>\n",
       "      <th>Buyer Name</th>\n",
       "      <th>Currency</th>\n",
       "      <th>Group Name</th>\n",
       "    </tr>\n",
       "  </thead>\n",
       "  <tbody>\n",
       "    <tr>\n",
       "      <th>0</th>\n",
       "      <td>08/22/21</td>\n",
       "      <td>111-0063950-9396222</td>\n",
       "      <td>Cat8 Ethernet Cable, Outdoor&amp;Indoor, 6FT Heavy...</td>\n",
       "      <td>ELECTRONIC_CABLE</td>\n",
       "      <td>B07QLXC6QR</td>\n",
       "      <td>26121609</td>\n",
       "      <td>Amazon.com</td>\n",
       "      <td>NaN</td>\n",
       "      <td>new</td>\n",
       "      <td>DBillionDa</td>\n",
       "      <td>...</td>\n",
       "      <td>AMZN_US(TBA164465490301)</td>\n",
       "      <td>$8.99</td>\n",
       "      <td>$0.68</td>\n",
       "      <td>$9.67</td>\n",
       "      <td>False</td>\n",
       "      <td>NaN</td>\n",
       "      <td>False</td>\n",
       "      <td>Joshua Jones</td>\n",
       "      <td>USD</td>\n",
       "      <td>NaN</td>\n",
       "    </tr>\n",
       "    <tr>\n",
       "      <th>1</th>\n",
       "      <td>08/22/21</td>\n",
       "      <td>111-0063950-9396222</td>\n",
       "      <td>UGREEN USB C to Ethernet Adapter Gigabit RJ45 ...</td>\n",
       "      <td>NETWORK_INTERFACE_CONTROLLER_ADAPTER</td>\n",
       "      <td>B082K62S48</td>\n",
       "      <td>43201400</td>\n",
       "      <td>Amazon.com</td>\n",
       "      <td>NaN</td>\n",
       "      <td>new</td>\n",
       "      <td>UGREEN GROUP LIMITED</td>\n",
       "      <td>...</td>\n",
       "      <td>AMZN_US(TBA164465490301)</td>\n",
       "      <td>$17.99</td>\n",
       "      <td>$1.37</td>\n",
       "      <td>$19.36</td>\n",
       "      <td>False</td>\n",
       "      <td>NaN</td>\n",
       "      <td>False</td>\n",
       "      <td>Joshua Jones</td>\n",
       "      <td>USD</td>\n",
       "      <td>NaN</td>\n",
       "    </tr>\n",
       "    <tr>\n",
       "      <th>2</th>\n",
       "      <td>08/22/21</td>\n",
       "      <td>111-6316133-0281004</td>\n",
       "      <td>Revlon Nail Clipper, Compact Mini Nail Cutter ...</td>\n",
       "      <td>NAIL_CLIPPER</td>\n",
       "      <td>B004NZDY42</td>\n",
       "      <td>53131600</td>\n",
       "      <td>Amazon.com</td>\n",
       "      <td>NaN</td>\n",
       "      <td>new</td>\n",
       "      <td>Amazon.com</td>\n",
       "      <td>...</td>\n",
       "      <td>UPS(1Z1A12T10262597325)</td>\n",
       "      <td>$1.58</td>\n",
       "      <td>$0.13</td>\n",
       "      <td>$1.71</td>\n",
       "      <td>False</td>\n",
       "      <td>NaN</td>\n",
       "      <td>False</td>\n",
       "      <td>Joshua Jones</td>\n",
       "      <td>USD</td>\n",
       "      <td>NaN</td>\n",
       "    </tr>\n",
       "    <tr>\n",
       "      <th>3</th>\n",
       "      <td>08/27/21</td>\n",
       "      <td>111-2146398-0652230</td>\n",
       "      <td>Garbage: A Poem</td>\n",
       "      <td>ABIS_BOOK</td>\n",
       "      <td>0393324117</td>\n",
       "      <td>55101500</td>\n",
       "      <td>Amazon.com</td>\n",
       "      <td>2002-12-17T00:00:01</td>\n",
       "      <td>new</td>\n",
       "      <td>Amazon.com</td>\n",
       "      <td>...</td>\n",
       "      <td>AMZN_US(TBA164771862301)</td>\n",
       "      <td>$15.95</td>\n",
       "      <td>$1.28</td>\n",
       "      <td>$17.23</td>\n",
       "      <td>False</td>\n",
       "      <td>NaN</td>\n",
       "      <td>False</td>\n",
       "      <td>Joshua Jones</td>\n",
       "      <td>USD</td>\n",
       "      <td>NaN</td>\n",
       "    </tr>\n",
       "    <tr>\n",
       "      <th>4</th>\n",
       "      <td>08/28/21</td>\n",
       "      <td>111-5285417-6658606</td>\n",
       "      <td>\"They Say / I Say\"</td>\n",
       "      <td>ABIS_BOOK</td>\n",
       "      <td>0393538702</td>\n",
       "      <td>55101500</td>\n",
       "      <td>Amazon.com</td>\n",
       "      <td>2021-07-15T00:00:01</td>\n",
       "      <td>new</td>\n",
       "      <td>Amazon.com</td>\n",
       "      <td>...</td>\n",
       "      <td>AMZN_US(TBA164800605001)</td>\n",
       "      <td>$29.75</td>\n",
       "      <td>$2.38</td>\n",
       "      <td>$32.13</td>\n",
       "      <td>False</td>\n",
       "      <td>NaN</td>\n",
       "      <td>False</td>\n",
       "      <td>Joshua Jones</td>\n",
       "      <td>USD</td>\n",
       "      <td>NaN</td>\n",
       "    </tr>\n",
       "  </tbody>\n",
       "</table>\n",
       "<p>5 rows × 36 columns</p>\n",
       "</div>"
      ],
      "text/plain": [
       "  Order Date             Order ID  \\\n",
       "0   08/22/21  111-0063950-9396222   \n",
       "1   08/22/21  111-0063950-9396222   \n",
       "2   08/22/21  111-6316133-0281004   \n",
       "3   08/27/21  111-2146398-0652230   \n",
       "4   08/28/21  111-5285417-6658606   \n",
       "\n",
       "                                               Title  \\\n",
       "0  Cat8 Ethernet Cable, Outdoor&Indoor, 6FT Heavy...   \n",
       "1  UGREEN USB C to Ethernet Adapter Gigabit RJ45 ...   \n",
       "2  Revlon Nail Clipper, Compact Mini Nail Cutter ...   \n",
       "3                                    Garbage: A Poem   \n",
       "4                                 \"They Say / I Say\"   \n",
       "\n",
       "                               Category   ASIN/ISBN  UNSPSC Code     Website  \\\n",
       "0                      ELECTRONIC_CABLE  B07QLXC6QR     26121609  Amazon.com   \n",
       "1  NETWORK_INTERFACE_CONTROLLER_ADAPTER  B082K62S48     43201400  Amazon.com   \n",
       "2                          NAIL_CLIPPER  B004NZDY42     53131600  Amazon.com   \n",
       "3                             ABIS_BOOK  0393324117     55101500  Amazon.com   \n",
       "4                             ABIS_BOOK  0393538702     55101500  Amazon.com   \n",
       "\n",
       "          Release Date Condition                Seller  ...  \\\n",
       "0                  NaN       new            DBillionDa  ...   \n",
       "1                  NaN       new  UGREEN GROUP LIMITED  ...   \n",
       "2                  NaN       new            Amazon.com  ...   \n",
       "3  2002-12-17T00:00:01       new            Amazon.com  ...   \n",
       "4  2021-07-15T00:00:01       new            Amazon.com  ...   \n",
       "\n",
       "   Carrier Name & Tracking Number Item Subtotal Item Subtotal Tax  Item Total  \\\n",
       "0        AMZN_US(TBA164465490301)         $8.99             $0.68       $9.67   \n",
       "1        AMZN_US(TBA164465490301)        $17.99             $1.37      $19.36   \n",
       "2         UPS(1Z1A12T10262597325)         $1.58             $0.13       $1.71   \n",
       "3        AMZN_US(TBA164771862301)        $15.95             $1.28      $17.23   \n",
       "4        AMZN_US(TBA164800605001)        $29.75             $2.38      $32.13   \n",
       "\n",
       "  Tax Exemption Applied  Tax Exemption Type  Exemption Opt-Out    Buyer Name  \\\n",
       "0                 False                 NaN              False  Joshua Jones   \n",
       "1                 False                 NaN              False  Joshua Jones   \n",
       "2                 False                 NaN              False  Joshua Jones   \n",
       "3                 False                 NaN              False  Joshua Jones   \n",
       "4                 False                 NaN              False  Joshua Jones   \n",
       "\n",
       "  Currency Group Name  \n",
       "0      USD        NaN  \n",
       "1      USD        NaN  \n",
       "2      USD        NaN  \n",
       "3      USD        NaN  \n",
       "4      USD        NaN  \n",
       "\n",
       "[5 rows x 36 columns]"
      ]
     },
     "execution_count": 6,
     "metadata": {},
     "output_type": "execute_result"
    }
   ],
   "source": [
    "df.head()"
   ]
  },
  {
   "cell_type": "code",
   "execution_count": 7,
   "id": "c65c1337",
   "metadata": {},
   "outputs": [
    {
     "data": {
      "text/plain": [
       "(47, 36)"
      ]
     },
     "execution_count": 7,
     "metadata": {},
     "output_type": "execute_result"
    }
   ],
   "source": [
    "df.shape"
   ]
  },
  {
   "cell_type": "code",
   "execution_count": 8,
   "id": "ffc74f0b",
   "metadata": {},
   "outputs": [
    {
     "name": "stderr",
     "output_type": "stream",
     "text": [
      "/var/folders/r9/p0g511915qn9blq6hks_vn9m0000gn/T/ipykernel_95764/4230566010.py:1: FutureWarning: The default value of regex will change from True to False in a future version. In addition, single character regular expressions will *not* be treated as literal strings when regex=True.\n",
      "  df[\"Item Total\"] = df[\"Item Total\"].str.replace('$','').astype(float)\n"
     ]
    },
    {
     "data": {
      "text/html": [
       "<div>\n",
       "<style scoped>\n",
       "    .dataframe tbody tr th:only-of-type {\n",
       "        vertical-align: middle;\n",
       "    }\n",
       "\n",
       "    .dataframe tbody tr th {\n",
       "        vertical-align: top;\n",
       "    }\n",
       "\n",
       "    .dataframe thead th {\n",
       "        text-align: right;\n",
       "    }\n",
       "</style>\n",
       "<table border=\"1\" class=\"dataframe\">\n",
       "  <thead>\n",
       "    <tr style=\"text-align: right;\">\n",
       "      <th></th>\n",
       "      <th>Order Date</th>\n",
       "      <th>Order ID</th>\n",
       "      <th>Title</th>\n",
       "      <th>Category</th>\n",
       "      <th>ASIN/ISBN</th>\n",
       "      <th>UNSPSC Code</th>\n",
       "      <th>Website</th>\n",
       "      <th>Release Date</th>\n",
       "      <th>Condition</th>\n",
       "      <th>Seller</th>\n",
       "      <th>...</th>\n",
       "      <th>Carrier Name &amp; Tracking Number</th>\n",
       "      <th>Item Subtotal</th>\n",
       "      <th>Item Subtotal Tax</th>\n",
       "      <th>Item Total</th>\n",
       "      <th>Tax Exemption Applied</th>\n",
       "      <th>Tax Exemption Type</th>\n",
       "      <th>Exemption Opt-Out</th>\n",
       "      <th>Buyer Name</th>\n",
       "      <th>Currency</th>\n",
       "      <th>Group Name</th>\n",
       "    </tr>\n",
       "  </thead>\n",
       "  <tbody>\n",
       "    <tr>\n",
       "      <th>0</th>\n",
       "      <td>08/22/21</td>\n",
       "      <td>111-0063950-9396222</td>\n",
       "      <td>Cat8 Ethernet Cable, Outdoor&amp;Indoor, 6FT Heavy...</td>\n",
       "      <td>ELECTRONIC_CABLE</td>\n",
       "      <td>B07QLXC6QR</td>\n",
       "      <td>26121609</td>\n",
       "      <td>Amazon.com</td>\n",
       "      <td>NaN</td>\n",
       "      <td>new</td>\n",
       "      <td>DBillionDa</td>\n",
       "      <td>...</td>\n",
       "      <td>AMZN_US(TBA164465490301)</td>\n",
       "      <td>$8.99</td>\n",
       "      <td>$0.68</td>\n",
       "      <td>9.67</td>\n",
       "      <td>False</td>\n",
       "      <td>NaN</td>\n",
       "      <td>False</td>\n",
       "      <td>Joshua Jones</td>\n",
       "      <td>USD</td>\n",
       "      <td>NaN</td>\n",
       "    </tr>\n",
       "    <tr>\n",
       "      <th>1</th>\n",
       "      <td>08/22/21</td>\n",
       "      <td>111-0063950-9396222</td>\n",
       "      <td>UGREEN USB C to Ethernet Adapter Gigabit RJ45 ...</td>\n",
       "      <td>NETWORK_INTERFACE_CONTROLLER_ADAPTER</td>\n",
       "      <td>B082K62S48</td>\n",
       "      <td>43201400</td>\n",
       "      <td>Amazon.com</td>\n",
       "      <td>NaN</td>\n",
       "      <td>new</td>\n",
       "      <td>UGREEN GROUP LIMITED</td>\n",
       "      <td>...</td>\n",
       "      <td>AMZN_US(TBA164465490301)</td>\n",
       "      <td>$17.99</td>\n",
       "      <td>$1.37</td>\n",
       "      <td>19.36</td>\n",
       "      <td>False</td>\n",
       "      <td>NaN</td>\n",
       "      <td>False</td>\n",
       "      <td>Joshua Jones</td>\n",
       "      <td>USD</td>\n",
       "      <td>NaN</td>\n",
       "    </tr>\n",
       "    <tr>\n",
       "      <th>2</th>\n",
       "      <td>08/22/21</td>\n",
       "      <td>111-6316133-0281004</td>\n",
       "      <td>Revlon Nail Clipper, Compact Mini Nail Cutter ...</td>\n",
       "      <td>NAIL_CLIPPER</td>\n",
       "      <td>B004NZDY42</td>\n",
       "      <td>53131600</td>\n",
       "      <td>Amazon.com</td>\n",
       "      <td>NaN</td>\n",
       "      <td>new</td>\n",
       "      <td>Amazon.com</td>\n",
       "      <td>...</td>\n",
       "      <td>UPS(1Z1A12T10262597325)</td>\n",
       "      <td>$1.58</td>\n",
       "      <td>$0.13</td>\n",
       "      <td>1.71</td>\n",
       "      <td>False</td>\n",
       "      <td>NaN</td>\n",
       "      <td>False</td>\n",
       "      <td>Joshua Jones</td>\n",
       "      <td>USD</td>\n",
       "      <td>NaN</td>\n",
       "    </tr>\n",
       "    <tr>\n",
       "      <th>3</th>\n",
       "      <td>08/27/21</td>\n",
       "      <td>111-2146398-0652230</td>\n",
       "      <td>Garbage: A Poem</td>\n",
       "      <td>ABIS_BOOK</td>\n",
       "      <td>0393324117</td>\n",
       "      <td>55101500</td>\n",
       "      <td>Amazon.com</td>\n",
       "      <td>2002-12-17T00:00:01</td>\n",
       "      <td>new</td>\n",
       "      <td>Amazon.com</td>\n",
       "      <td>...</td>\n",
       "      <td>AMZN_US(TBA164771862301)</td>\n",
       "      <td>$15.95</td>\n",
       "      <td>$1.28</td>\n",
       "      <td>17.23</td>\n",
       "      <td>False</td>\n",
       "      <td>NaN</td>\n",
       "      <td>False</td>\n",
       "      <td>Joshua Jones</td>\n",
       "      <td>USD</td>\n",
       "      <td>NaN</td>\n",
       "    </tr>\n",
       "    <tr>\n",
       "      <th>4</th>\n",
       "      <td>08/28/21</td>\n",
       "      <td>111-5285417-6658606</td>\n",
       "      <td>\"They Say / I Say\"</td>\n",
       "      <td>ABIS_BOOK</td>\n",
       "      <td>0393538702</td>\n",
       "      <td>55101500</td>\n",
       "      <td>Amazon.com</td>\n",
       "      <td>2021-07-15T00:00:01</td>\n",
       "      <td>new</td>\n",
       "      <td>Amazon.com</td>\n",
       "      <td>...</td>\n",
       "      <td>AMZN_US(TBA164800605001)</td>\n",
       "      <td>$29.75</td>\n",
       "      <td>$2.38</td>\n",
       "      <td>32.13</td>\n",
       "      <td>False</td>\n",
       "      <td>NaN</td>\n",
       "      <td>False</td>\n",
       "      <td>Joshua Jones</td>\n",
       "      <td>USD</td>\n",
       "      <td>NaN</td>\n",
       "    </tr>\n",
       "  </tbody>\n",
       "</table>\n",
       "<p>5 rows × 36 columns</p>\n",
       "</div>"
      ],
      "text/plain": [
       "  Order Date             Order ID  \\\n",
       "0   08/22/21  111-0063950-9396222   \n",
       "1   08/22/21  111-0063950-9396222   \n",
       "2   08/22/21  111-6316133-0281004   \n",
       "3   08/27/21  111-2146398-0652230   \n",
       "4   08/28/21  111-5285417-6658606   \n",
       "\n",
       "                                               Title  \\\n",
       "0  Cat8 Ethernet Cable, Outdoor&Indoor, 6FT Heavy...   \n",
       "1  UGREEN USB C to Ethernet Adapter Gigabit RJ45 ...   \n",
       "2  Revlon Nail Clipper, Compact Mini Nail Cutter ...   \n",
       "3                                    Garbage: A Poem   \n",
       "4                                 \"They Say / I Say\"   \n",
       "\n",
       "                               Category   ASIN/ISBN  UNSPSC Code     Website  \\\n",
       "0                      ELECTRONIC_CABLE  B07QLXC6QR     26121609  Amazon.com   \n",
       "1  NETWORK_INTERFACE_CONTROLLER_ADAPTER  B082K62S48     43201400  Amazon.com   \n",
       "2                          NAIL_CLIPPER  B004NZDY42     53131600  Amazon.com   \n",
       "3                             ABIS_BOOK  0393324117     55101500  Amazon.com   \n",
       "4                             ABIS_BOOK  0393538702     55101500  Amazon.com   \n",
       "\n",
       "          Release Date Condition                Seller  ...  \\\n",
       "0                  NaN       new            DBillionDa  ...   \n",
       "1                  NaN       new  UGREEN GROUP LIMITED  ...   \n",
       "2                  NaN       new            Amazon.com  ...   \n",
       "3  2002-12-17T00:00:01       new            Amazon.com  ...   \n",
       "4  2021-07-15T00:00:01       new            Amazon.com  ...   \n",
       "\n",
       "   Carrier Name & Tracking Number Item Subtotal Item Subtotal Tax  Item Total  \\\n",
       "0        AMZN_US(TBA164465490301)         $8.99             $0.68        9.67   \n",
       "1        AMZN_US(TBA164465490301)        $17.99             $1.37       19.36   \n",
       "2         UPS(1Z1A12T10262597325)         $1.58             $0.13        1.71   \n",
       "3        AMZN_US(TBA164771862301)        $15.95             $1.28       17.23   \n",
       "4        AMZN_US(TBA164800605001)        $29.75             $2.38       32.13   \n",
       "\n",
       "  Tax Exemption Applied  Tax Exemption Type  Exemption Opt-Out    Buyer Name  \\\n",
       "0                 False                 NaN              False  Joshua Jones   \n",
       "1                 False                 NaN              False  Joshua Jones   \n",
       "2                 False                 NaN              False  Joshua Jones   \n",
       "3                 False                 NaN              False  Joshua Jones   \n",
       "4                 False                 NaN              False  Joshua Jones   \n",
       "\n",
       "  Currency Group Name  \n",
       "0      USD        NaN  \n",
       "1      USD        NaN  \n",
       "2      USD        NaN  \n",
       "3      USD        NaN  \n",
       "4      USD        NaN  \n",
       "\n",
       "[5 rows x 36 columns]"
      ]
     },
     "execution_count": 8,
     "metadata": {},
     "output_type": "execute_result"
    }
   ],
   "source": [
    "df[\"Item Total\"] = df[\"Item Total\"].str.replace('$','').astype(float)\n",
    "df.head()\n"
   ]
  },
  {
   "cell_type": "code",
   "execution_count": 9,
   "id": "10de6f8c",
   "metadata": {},
   "outputs": [
    {
     "data": {
      "text/plain": [
       "857.6"
      ]
     },
     "execution_count": 9,
     "metadata": {},
     "output_type": "execute_result"
    }
   ],
   "source": [
    "df[\"Item Total\"].sum()"
   ]
  },
  {
   "cell_type": "code",
   "execution_count": 10,
   "id": "6d70cc00",
   "metadata": {},
   "outputs": [
    {
     "data": {
      "text/plain": [
       "18.2468085106383"
      ]
     },
     "execution_count": 10,
     "metadata": {},
     "output_type": "execute_result"
    }
   ],
   "source": [
    "df[\"Item Total\"].mean()"
   ]
  },
  {
   "cell_type": "code",
   "execution_count": 12,
   "id": "9d9bf280",
   "metadata": {},
   "outputs": [
    {
     "data": {
      "text/plain": [
       "15.56"
      ]
     },
     "execution_count": 12,
     "metadata": {},
     "output_type": "execute_result"
    }
   ],
   "source": [
    "df[\"Item Total\"].median()"
   ]
  },
  {
   "cell_type": "code",
   "execution_count": 13,
   "id": "2e083d8b",
   "metadata": {},
   "outputs": [
    {
     "data": {
      "text/plain": [
       "108.57"
      ]
     },
     "execution_count": 13,
     "metadata": {},
     "output_type": "execute_result"
    }
   ],
   "source": [
    "df[\"Item Total\"].max()"
   ]
  },
  {
   "cell_type": "code",
   "execution_count": 14,
   "id": "222e505d",
   "metadata": {},
   "outputs": [
    {
     "data": {
      "text/plain": [
       "1.03"
      ]
     },
     "execution_count": 14,
     "metadata": {},
     "output_type": "execute_result"
    }
   ],
   "source": [
    "df[\"Item Total\"].min()"
   ]
  },
  {
   "cell_type": "code",
   "execution_count": 15,
   "id": "d384c304",
   "metadata": {},
   "outputs": [
    {
     "data": {
      "text/html": [
       "<div>\n",
       "<style scoped>\n",
       "    .dataframe tbody tr th:only-of-type {\n",
       "        vertical-align: middle;\n",
       "    }\n",
       "\n",
       "    .dataframe tbody tr th {\n",
       "        vertical-align: top;\n",
       "    }\n",
       "\n",
       "    .dataframe thead th {\n",
       "        text-align: right;\n",
       "    }\n",
       "</style>\n",
       "<table border=\"1\" class=\"dataframe\">\n",
       "  <thead>\n",
       "    <tr style=\"text-align: right;\">\n",
       "      <th></th>\n",
       "      <th>Order Date</th>\n",
       "      <th>Order ID</th>\n",
       "      <th>Title</th>\n",
       "      <th>Category</th>\n",
       "      <th>ASIN/ISBN</th>\n",
       "      <th>UNSPSC Code</th>\n",
       "      <th>Website</th>\n",
       "      <th>Release Date</th>\n",
       "      <th>Condition</th>\n",
       "      <th>Seller</th>\n",
       "      <th>...</th>\n",
       "      <th>Carrier Name &amp; Tracking Number</th>\n",
       "      <th>Item Subtotal</th>\n",
       "      <th>Item Subtotal Tax</th>\n",
       "      <th>Item Total</th>\n",
       "      <th>Tax Exemption Applied</th>\n",
       "      <th>Tax Exemption Type</th>\n",
       "      <th>Exemption Opt-Out</th>\n",
       "      <th>Buyer Name</th>\n",
       "      <th>Currency</th>\n",
       "      <th>Group Name</th>\n",
       "    </tr>\n",
       "  </thead>\n",
       "  <tbody>\n",
       "    <tr>\n",
       "      <th>0</th>\n",
       "      <td>2021-08-22</td>\n",
       "      <td>111-0063950-9396222</td>\n",
       "      <td>Cat8 Ethernet Cable, Outdoor&amp;Indoor, 6FT Heavy...</td>\n",
       "      <td>ELECTRONIC_CABLE</td>\n",
       "      <td>B07QLXC6QR</td>\n",
       "      <td>26121609</td>\n",
       "      <td>Amazon.com</td>\n",
       "      <td>NaN</td>\n",
       "      <td>new</td>\n",
       "      <td>DBillionDa</td>\n",
       "      <td>...</td>\n",
       "      <td>AMZN_US(TBA164465490301)</td>\n",
       "      <td>$8.99</td>\n",
       "      <td>$0.68</td>\n",
       "      <td>9.67</td>\n",
       "      <td>False</td>\n",
       "      <td>NaN</td>\n",
       "      <td>False</td>\n",
       "      <td>Joshua Jones</td>\n",
       "      <td>USD</td>\n",
       "      <td>NaN</td>\n",
       "    </tr>\n",
       "    <tr>\n",
       "      <th>1</th>\n",
       "      <td>2021-08-22</td>\n",
       "      <td>111-0063950-9396222</td>\n",
       "      <td>UGREEN USB C to Ethernet Adapter Gigabit RJ45 ...</td>\n",
       "      <td>NETWORK_INTERFACE_CONTROLLER_ADAPTER</td>\n",
       "      <td>B082K62S48</td>\n",
       "      <td>43201400</td>\n",
       "      <td>Amazon.com</td>\n",
       "      <td>NaN</td>\n",
       "      <td>new</td>\n",
       "      <td>UGREEN GROUP LIMITED</td>\n",
       "      <td>...</td>\n",
       "      <td>AMZN_US(TBA164465490301)</td>\n",
       "      <td>$17.99</td>\n",
       "      <td>$1.37</td>\n",
       "      <td>19.36</td>\n",
       "      <td>False</td>\n",
       "      <td>NaN</td>\n",
       "      <td>False</td>\n",
       "      <td>Joshua Jones</td>\n",
       "      <td>USD</td>\n",
       "      <td>NaN</td>\n",
       "    </tr>\n",
       "    <tr>\n",
       "      <th>2</th>\n",
       "      <td>2021-08-22</td>\n",
       "      <td>111-6316133-0281004</td>\n",
       "      <td>Revlon Nail Clipper, Compact Mini Nail Cutter ...</td>\n",
       "      <td>NAIL_CLIPPER</td>\n",
       "      <td>B004NZDY42</td>\n",
       "      <td>53131600</td>\n",
       "      <td>Amazon.com</td>\n",
       "      <td>NaN</td>\n",
       "      <td>new</td>\n",
       "      <td>Amazon.com</td>\n",
       "      <td>...</td>\n",
       "      <td>UPS(1Z1A12T10262597325)</td>\n",
       "      <td>$1.58</td>\n",
       "      <td>$0.13</td>\n",
       "      <td>1.71</td>\n",
       "      <td>False</td>\n",
       "      <td>NaN</td>\n",
       "      <td>False</td>\n",
       "      <td>Joshua Jones</td>\n",
       "      <td>USD</td>\n",
       "      <td>NaN</td>\n",
       "    </tr>\n",
       "    <tr>\n",
       "      <th>3</th>\n",
       "      <td>2021-08-27</td>\n",
       "      <td>111-2146398-0652230</td>\n",
       "      <td>Garbage: A Poem</td>\n",
       "      <td>ABIS_BOOK</td>\n",
       "      <td>0393324117</td>\n",
       "      <td>55101500</td>\n",
       "      <td>Amazon.com</td>\n",
       "      <td>2002-12-17T00:00:01</td>\n",
       "      <td>new</td>\n",
       "      <td>Amazon.com</td>\n",
       "      <td>...</td>\n",
       "      <td>AMZN_US(TBA164771862301)</td>\n",
       "      <td>$15.95</td>\n",
       "      <td>$1.28</td>\n",
       "      <td>17.23</td>\n",
       "      <td>False</td>\n",
       "      <td>NaN</td>\n",
       "      <td>False</td>\n",
       "      <td>Joshua Jones</td>\n",
       "      <td>USD</td>\n",
       "      <td>NaN</td>\n",
       "    </tr>\n",
       "    <tr>\n",
       "      <th>4</th>\n",
       "      <td>2021-08-28</td>\n",
       "      <td>111-5285417-6658606</td>\n",
       "      <td>\"They Say / I Say\"</td>\n",
       "      <td>ABIS_BOOK</td>\n",
       "      <td>0393538702</td>\n",
       "      <td>55101500</td>\n",
       "      <td>Amazon.com</td>\n",
       "      <td>2021-07-15T00:00:01</td>\n",
       "      <td>new</td>\n",
       "      <td>Amazon.com</td>\n",
       "      <td>...</td>\n",
       "      <td>AMZN_US(TBA164800605001)</td>\n",
       "      <td>$29.75</td>\n",
       "      <td>$2.38</td>\n",
       "      <td>32.13</td>\n",
       "      <td>False</td>\n",
       "      <td>NaN</td>\n",
       "      <td>False</td>\n",
       "      <td>Joshua Jones</td>\n",
       "      <td>USD</td>\n",
       "      <td>NaN</td>\n",
       "    </tr>\n",
       "  </tbody>\n",
       "</table>\n",
       "<p>5 rows × 36 columns</p>\n",
       "</div>"
      ],
      "text/plain": [
       "  Order Date             Order ID  \\\n",
       "0 2021-08-22  111-0063950-9396222   \n",
       "1 2021-08-22  111-0063950-9396222   \n",
       "2 2021-08-22  111-6316133-0281004   \n",
       "3 2021-08-27  111-2146398-0652230   \n",
       "4 2021-08-28  111-5285417-6658606   \n",
       "\n",
       "                                               Title  \\\n",
       "0  Cat8 Ethernet Cable, Outdoor&Indoor, 6FT Heavy...   \n",
       "1  UGREEN USB C to Ethernet Adapter Gigabit RJ45 ...   \n",
       "2  Revlon Nail Clipper, Compact Mini Nail Cutter ...   \n",
       "3                                    Garbage: A Poem   \n",
       "4                                 \"They Say / I Say\"   \n",
       "\n",
       "                               Category   ASIN/ISBN  UNSPSC Code     Website  \\\n",
       "0                      ELECTRONIC_CABLE  B07QLXC6QR     26121609  Amazon.com   \n",
       "1  NETWORK_INTERFACE_CONTROLLER_ADAPTER  B082K62S48     43201400  Amazon.com   \n",
       "2                          NAIL_CLIPPER  B004NZDY42     53131600  Amazon.com   \n",
       "3                             ABIS_BOOK  0393324117     55101500  Amazon.com   \n",
       "4                             ABIS_BOOK  0393538702     55101500  Amazon.com   \n",
       "\n",
       "          Release Date Condition                Seller  ...  \\\n",
       "0                  NaN       new            DBillionDa  ...   \n",
       "1                  NaN       new  UGREEN GROUP LIMITED  ...   \n",
       "2                  NaN       new            Amazon.com  ...   \n",
       "3  2002-12-17T00:00:01       new            Amazon.com  ...   \n",
       "4  2021-07-15T00:00:01       new            Amazon.com  ...   \n",
       "\n",
       "   Carrier Name & Tracking Number Item Subtotal Item Subtotal Tax  Item Total  \\\n",
       "0        AMZN_US(TBA164465490301)         $8.99             $0.68        9.67   \n",
       "1        AMZN_US(TBA164465490301)        $17.99             $1.37       19.36   \n",
       "2         UPS(1Z1A12T10262597325)         $1.58             $0.13        1.71   \n",
       "3        AMZN_US(TBA164771862301)        $15.95             $1.28       17.23   \n",
       "4        AMZN_US(TBA164800605001)        $29.75             $2.38       32.13   \n",
       "\n",
       "  Tax Exemption Applied  Tax Exemption Type  Exemption Opt-Out    Buyer Name  \\\n",
       "0                 False                 NaN              False  Joshua Jones   \n",
       "1                 False                 NaN              False  Joshua Jones   \n",
       "2                 False                 NaN              False  Joshua Jones   \n",
       "3                 False                 NaN              False  Joshua Jones   \n",
       "4                 False                 NaN              False  Joshua Jones   \n",
       "\n",
       "  Currency Group Name  \n",
       "0      USD        NaN  \n",
       "1      USD        NaN  \n",
       "2      USD        NaN  \n",
       "3      USD        NaN  \n",
       "4      USD        NaN  \n",
       "\n",
       "[5 rows x 36 columns]"
      ]
     },
     "execution_count": 15,
     "metadata": {},
     "output_type": "execute_result"
    }
   ],
   "source": [
    "df['Order Date'] = pd.to_datetime(df['Order Date'])\n",
    "df.head()"
   ]
  },
  {
   "cell_type": "code",
   "execution_count": 16,
   "id": "1ca9bc83",
   "metadata": {},
   "outputs": [
    {
     "data": {
      "text/plain": [
       "<AxesSubplot:xlabel='Order Date'>"
      ]
     },
     "execution_count": 16,
     "metadata": {},
     "output_type": "execute_result"
    },
    {
     "data": {
      "image/png": "[encoded data removed]",
      "text/plain": [
       "<Figure size 432x288 with 1 Axes>"
      ]
     },
     "metadata": {
      "needs_background": "light"
     },
     "output_type": "display_data"
    }
   ],
   "source": [
    "df.plot.bar(x='Order Date', y='Item Total', rot=90)"
   ]
  },
  {
   "cell_type": "code",
   "execution_count": 17,
   "id": "3018434b",
   "metadata": {},
   "outputs": [
    {
     "data": {
      "text/plain": [
       "<AxesSubplot:xlabel='Order Date'>"
      ]
     },
     "execution_count": 17,
     "metadata": {},
     "output_type": "execute_result"
    },
    {
     "data": {
      "image/png": "[encoded data removed]",
      "text/plain": [
       "<Figure size 1440x720 with 1 Axes>"
      ]
     },
     "metadata": {
      "needs_background": "light"
     },
     "output_type": "display_data"
    }
   ],
   "source": [
    "df.plot.bar(x='Order Date', y='Item Total', rot=90, figsize=(20,10))"
   ]
  },
  {
   "cell_type": "code",
   "execution_count": 19,
   "id": "9e074de3",
   "metadata": {},
   "outputs": [
    {
     "data": {
      "text/plain": [
       "Order Date\n",
       "2021-08-22    30.74\n",
       "2021-08-27    17.23\n",
       "2021-08-28    32.13\n",
       "2021-08-31    14.03\n",
       "2021-09-04    94.86\n",
       "Name: Item Total, dtype: float64"
      ]
     },
     "execution_count": 19,
     "metadata": {},
     "output_type": "execute_result"
    }
   ],
   "source": [
    "daily_orders = df.groupby('Order Date').sum()[\"Item Total\"]\n",
    "daily_orders.head()"
   ]
  },
  {
   "cell_type": "code",
   "execution_count": 21,
   "id": "8a06bd3a",
   "metadata": {},
   "outputs": [
    {
     "data": {
      "text/plain": [
       "<AxesSubplot:xlabel='Order Date'>"
      ]
     },
     "execution_count": 21,
     "metadata": {},
     "output_type": "execute_result"
    },
    {
     "data": {
      "image/png": "[encoded data removed]",
      "text/plain": [
       "<Figure size 1440x720 with 1 Axes>"
      ]
     },
     "metadata": {
      "needs_background": "light"
     },
     "output_type": "display_data"
    }
   ],
   "source": [
    "daily_orders.plot.bar(figsize=(20,10), color='#61D199')"
   ]
  },
  {
   "cell_type": "code",
   "execution_count": null,
   "id": "e7aa48c4",
   "metadata": {},
   "outputs": [],
   "source": []
  }
 ],
 "metadata": {
  "kernelspec": {
   "display_name": "Python 3 (ipykernel)",
   "language": "python",
   "name": "python3"
  },
  "language_info": {
   "codemirror_mode": {
    "name": "ipython",
    "version": 3
   },
   "file_extension": ".py",
   "mimetype": "text/x-python",
   "name": "python",
   "nbconvert_exporter": "python",
   "pygments_lexer": "ipython3",
   "version": "3.9.12"
  }
 },
 "nbformat": 4,
 "nbformat_minor": 5
}
